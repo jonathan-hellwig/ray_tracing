{
 "cells": [
  {
   "cell_type": "code",
   "execution_count": 1,
   "metadata": {},
   "outputs": [],
   "source": [
    "import numpy as np\n",
    "import matplotlib.pyplot as plt\n",
    "from pprint import pprint\n",
    "from render import render"
   ]
  },
  {
   "cell_type": "code",
   "execution_count": 2,
   "metadata": {},
   "outputs": [],
   "source": [
    "def rotation(angle):\n",
    "    return np.array([[np.cos(angle), np.sin(angle)], [-np.sin(angle), np.cos(angle)]])\n",
    "\n",
    "\n",
    "class Ray:\n",
    "    def __init__(self, xpos, zpos, xdir, zdir):\n",
    "        self.position = np.array([xpos, zpos])\n",
    "        self.direction = np.array([xdir, zdir]) / (xdir**2 + zdir**2)**0.5\n",
    "        self.velocity = 2**0.5\n",
    "        self.num_reflections = 0\n",
    "\n",
    "        self.position_history = [self.position]\n",
    "        self.terminated = False\n",
    "\n",
    "    def update(self, new_pos, new_dir):\n",
    "        self.position = new_pos\n",
    "        self.direction = new_dir\n",
    "        self.position_history.append(new_pos.copy())\n",
    "\n",
    "    def __str__(self):\n",
    "        return f'Pos: {self.position.__str__()}, vel: {self.direction.__str__()}, ref: {self.num_reflections}'\n",
    "\n",
    "    def __repr__(self) -> str:\n",
    "        return self.__str__()\n",
    "\n",
    "\n",
    "class Reflector:\n",
    "    def __init__(self, xstart, zstart, xend, zend):\n",
    "        self.start = np.array([xstart, zstart])\n",
    "        self.end = np.array([xend, zend])\n",
    "\n",
    "    def slope(self):\n",
    "        return (self.end[1] - self.start[1]) / (self.end[0] - self.start[0])\n",
    "\n",
    "    def slope_angle(self):\n",
    "        if self.is_vertical():\n",
    "            return np.pi / 2.0\n",
    "        else:\n",
    "            return np.arctan(self.slope())\n",
    "\n",
    "    def is_vertical(self):\n",
    "        return abs(self.end[0] - self.start[0]) < 1e-5\n",
    "\n",
    "\n",
    "class Domain:\n",
    "    def __init__(self):\n",
    "        self.x_start = 0\n",
    "        self.x_end = 20\n",
    "        self.z_start = 0\n",
    "        self.z_end = 20\n",
    "\n",
    "        self.max_reflections = 10\n",
    "\n",
    "        self.ray_list = []\n",
    "        self.reflector_list = []\n",
    "        self.border_list = [Reflector(self.x_start, self.z_start, self.x_end, self.z_start),\n",
    "                            Reflector(self.x_start, self.z_start,\n",
    "                                      self.x_start, self.z_end),\n",
    "                            Reflector(self.x_end, self.z_start,\n",
    "                                      self.x_end, self.z_end),\n",
    "                            Reflector(self.x_start, self.z_end, self.x_end, self.z_end)]\n",
    "\n",
    "    def x_boundaries(self):\n",
    "        return [self.x_start, self.x_end]\n",
    "\n",
    "    def z_boundaries(self):\n",
    "        return [self.z_start, self.z_end]\n",
    "\n",
    "    def add_ray(self, ray):\n",
    "        self.ray_list.append(ray)\n",
    "\n",
    "    def add_reflector(self, reflector):\n",
    "        self.reflector_list.append(reflector)\n",
    "\n",
    "    def add_random_rays(self, num):\n",
    "        for i in range(num):\n",
    "            dice = (np.random.random(4))\n",
    "            self.add_ray(Ray((dice[0]-0.5)*10+10, (dice[1]-0.5)\n",
    "                         * 10+10, (dice[2]-0.5)*40, (dice[3]-1)*40))\n",
    "\n",
    "    def trace_rays(self):\n",
    "        for ray in self.ray_list:\n",
    "            while not ray.terminated and ray.num_reflections < self.max_reflections:\n",
    "                reflection_candidates = []\n",
    "                for ref in self.reflector_list:\n",
    "                    rhs = ref.start - ray.position\n",
    "                    matrix = np.array(\n",
    "                        [ray.direction*ray.velocity, ref.start - ref.end]).T\n",
    "                    try:\n",
    "                        intersection_params = np.linalg.solve(matrix, rhs)\n",
    "                        if 0 <= intersection_params[1] <= 1 and intersection_params[0] > 1e-5:\n",
    "                            reflection_candidates.append(\n",
    "                                (intersection_params, ref))\n",
    "                    except:\n",
    "                        None\n",
    "\n",
    "                if reflection_candidates:\n",
    "                    best_reflector = min(\n",
    "                        reflection_candidates, key=lambda item: item[0][0])\n",
    "\n",
    "                    reflection_events = True\n",
    "                    ray.num_reflections += 1\n",
    "                    intersection = ray.position + \\\n",
    "                        best_reflector[0][0] * ray.direction * ray.velocity\n",
    "                    reflector_angle = best_reflector[1].slope_angle()\n",
    "                    reflected_direction = rotation(reflector_angle).T @ np.array(\n",
    "                        [[1, 0], [0, -1]]) @ rotation(reflector_angle) @ ray.direction\n",
    "                    ray.update(intersection, reflected_direction)\n",
    "                else:\n",
    "                    ray.terminated = True\n",
    "                    for border in self.border_list:\n",
    "                        rhs = border.start - ray.position\n",
    "                        matrix = np.array(\n",
    "                            [ray.direction*ray.velocity, border.start - border.end]).T\n",
    "                        try:\n",
    "                            border_params = np.linalg.solve(matrix, rhs)\n",
    "                            if 0 <= border_params[1] <= 1 and border_params[0] > 0:\n",
    "                                border_intersection = ray.position + \\\n",
    "                                    border_params[0] * \\\n",
    "                                    ray.direction * ray.velocity\n",
    "                                ray.update(border_intersection,\n",
    "                                           np.array([0, 0]))\n",
    "                        except:\n",
    "                            None\n"
   ]
  },
  {
   "cell_type": "code",
   "execution_count": 3,
   "metadata": {},
   "outputs": [
    {
     "name": "stderr",
     "output_type": "stream",
     "text": [
      "No artists with labels found to put in legend.  Note that artists whose label start with an underscore are ignored when legend() is called with no argument.\n"
     ]
    },
    {
     "name": "stdout",
     "output_type": "stream",
     "text": [
      "Ray 0\n",
      "Ray 0\n",
      "Ray 1\n",
      "Ray 1\n",
      "Ray 1\n",
      "Ray 1\n",
      "Ray 1\n",
      "Ray 2\n",
      "Ray 2\n"
     ]
    },
    {
     "data": {
      "image/png": "[encoded data removed]",
      "text/plain": [
       "<Figure size 432x288 with 1 Axes>"
      ]
     },
     "metadata": {},
     "output_type": "display_data"
    }
   ],
   "source": [
    "np.random.seed(6)\n",
    "world = Domain()\n",
    "world.add_reflector(Reflector(10,15,18,10))\n",
    "world.add_reflector(Reflector(5, 2, 19, 10))\n",
    "world.add_reflector(Reflector(0, 5, 1, 15))\n",
    "world.add_random_rays(3)\n",
    "\n",
    "world.trace_rays()\n",
    "render(world.reflector_list, world.ray_list, world.x_boundaries(), world.z_boundaries())"
   ]
  }
 ],
 "metadata": {
  "kernelspec": {
   "display_name": "Python 3",
   "language": "python",
   "name": "python3"
  },
  "language_info": {
   "codemirror_mode": {
    "name": "ipython",
    "version": 3
   },
   "file_extension": ".py",
   "mimetype": "text/x-python",
   "name": "python",
   "nbconvert_exporter": "python",
   "pygments_lexer": "ipython3",
   "version": "3.10.9"
  },
  "orig_nbformat": 4,
  "vscode": {
   "interpreter": {
    "hash": "e7370f93d1d0cde622a1f8e1c04877d8463912d04d973331ad4851f04de6915a"
   }
  }
 },
 "nbformat": 4,
 "nbformat_minor": 2
}
