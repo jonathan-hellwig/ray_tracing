{
 "cells": [
  {
   "cell_type": "code",
   "execution_count": 11,
   "metadata": {},
   "outputs": [],
   "source": [
    "import numpy as np"
   ]
  },
  {
   "cell_type": "code",
   "execution_count": 41,
   "metadata": {},
   "outputs": [],
   "source": [
    "class Ray:\n",
    "    def __init__(self, xpos, zpos, xvel, zvel):\n",
    "        self.xpos = xpos\n",
    "        self.zpos = zpos\n",
    "        self.xvel = xvel\n",
    "        self.zvel = zvel\n",
    "\n",
    "class Reflector:\n",
    "    def __init__(self, xstart, zstart, xend, zend):\n",
    "        self.start = np.array([xstart,zstart])\n",
    "        self.end =  np.array([xend, zend])\n",
    "\n",
    "    def slope(self):\n",
    "        return (self.end[1] - self.start[1]) / (self.end[0] - self.start[0])\n",
    "\n",
    "\n",
    "class Domain:\n",
    "    def __init__(self):\n",
    "        self.xstart = 0\n",
    "        self.xend = 1000\n",
    "        self.zstart = 0\n",
    "        self.zend = 1000\n",
    "\n",
    "        self.ray_list = []\n",
    "\n",
    "        self.reflector_list = []\n",
    "\n",
    "    def add_ray(self, ray):\n",
    "        self.ray_list.append(ray)\n",
    "\n",
    "    def add_reflector(self, reflector):\n",
    "        self.reflector_list.append(reflector)\n",
    "\n",
    "    def trace_ray(self):\n",
    "        for ref in self.reflector_list:\n",
    "            rhs = np.array(ref.start) - np.array([self.ray_list[0].xpos, self.ray_list[0].zpos])\n",
    "            Matrix = np.array([np.array([self.ray_list[0].xvel, self.ray_list[0].zvel]), ref.start - ref.end]).T\n",
    "            res = np.linalg.solve(Matrix, rhs)\n",
    "            print(res)\n"
   ]
  },
  {
   "cell_type": "code",
   "execution_count": 42,
   "metadata": {},
   "outputs": [
    {
     "name": "stdout",
     "output_type": "stream",
     "text": [
      "[5. 0.]\n"
     ]
    }
   ],
   "source": [
    "world = Domain()\n",
    "world.add_reflector(Reflector(5,5,10,5))\n",
    "world.add_ray(Ray(0,0,1,1))\n",
    "world.trace_ray()"
   ]
  }
 ],
 "metadata": {
  "kernelspec": {
   "display_name": "bigram",
   "language": "python",
   "name": "python3"
  },
  "language_info": {
   "codemirror_mode": {
    "name": "ipython",
    "version": 3
   },
   "file_extension": ".py",
   "mimetype": "text/x-python",
   "name": "python",
   "nbconvert_exporter": "python",
   "pygments_lexer": "ipython3",
   "version": "3.10.6"
  },
  "orig_nbformat": 4,
  "vscode": {
   "interpreter": {
    "hash": "196278cbd403e0ad682d08aa0215688ee77b3ca5ee815a1c2b47bcd97dd8f8a5"
   }
  }
 },
 "nbformat": 4,
 "nbformat_minor": 2
}
