{
 "cells": [
  {
   "cell_type": "code",
   "execution_count": 1,
   "metadata": {},
   "outputs": [],
   "source": [
    "import numpy as np"
   ]
  },
  {
   "cell_type": "code",
   "execution_count": 24,
   "metadata": {},
   "outputs": [],
   "source": [
    "class Ray:\n",
    "    def __init__(self, xpos, zpos, xvel, zvel):\n",
    "        self.pos = np.array([xpos, zpos])\n",
    "        self.vel = np.array([xvel, zvel])\n",
    "\n",
    "\n",
    "class Reflector:\n",
    "    def __init__(self, xstart, zstart, xend, zend):\n",
    "        self.start = np.array([xstart, zstart])\n",
    "        self.end = np.array([xend, zend])\n",
    "\n",
    "    def slope(self):\n",
    "        return (self.end[1] - self.start[1]) / (self.end[0] - self.start[0])\n",
    "\n",
    "\n",
    "def rotation(angle):\n",
    "    return np.array([[np.cos(angle), -np.sin(angle)], [np.sin(angle), np.cos(angle)]])\n",
    "\n",
    "\n",
    "class Domain:\n",
    "    def __init__(self):\n",
    "        self.xstart = 0\n",
    "        self.xend = 1000\n",
    "        self.zstart = 0\n",
    "        self.zend = 1000\n",
    "\n",
    "        self.ray_list = []\n",
    "\n",
    "        self.reflector_list = []\n",
    "\n",
    "    def add_ray(self, ray):\n",
    "        self.ray_list.append(ray)\n",
    "\n",
    "    def add_reflector(self, reflector):\n",
    "        self.reflector_list.append(reflector)\n",
    "\n",
    "    def trace_ray(self):\n",
    "        for i, ray in enumerate(self.ray_list):\n",
    "            for ref in self.reflector_list:\n",
    "                rhs = ref.start - ray.pos\n",
    "                Matrix = np.array(\n",
    "                    [ray.vel, ref.start - ref.end]).T\n",
    "                res = np.linalg.solve(Matrix, rhs)\n",
    "                if 0 <= res[1] <= 1 and res[0] > 0:\n",
    "                    pos = ray.pos + res[0] * ray.vel\n",
    "                    angle = np.arctan(ref.slope())\n",
    "                    vel = rotation(\n",
    "                        angle).T @ np.array([[1, 0], [0, -1]]) @ rotation(angle) @ ray.vel\n",
    "                    self.ray_list[i] = Ray(pos[0], pos[1], vel[0], vel[1])\n",
    "        print([(ray.pos, ray.vel) for ray in self.ray_list])\n"
   ]
  },
  {
   "cell_type": "code",
   "execution_count": 25,
   "metadata": {},
   "outputs": [
    {
     "name": "stdout",
     "output_type": "stream",
     "text": [
      "[5. 5.] [ 1. -1.]\n",
      "[(array([0, 0]), array([1, 1]))]\n"
     ]
    }
   ],
   "source": [
    "world = Domain()\n",
    "world.add_reflector(Reflector(5,5,10,5))\n",
    "world.add_ray(Ray(0,0,1,1))\n",
    "world.trace_ray()"
   ]
  }
 ],
 "metadata": {
  "kernelspec": {
   "display_name": "Python 3",
   "language": "python",
   "name": "python3"
  },
  "language_info": {
   "codemirror_mode": {
    "name": "ipython",
    "version": 3
   },
   "file_extension": ".py",
   "mimetype": "text/x-python",
   "name": "python",
   "nbconvert_exporter": "python",
   "pygments_lexer": "ipython3",
   "version": "3.10.9"
  },
  "orig_nbformat": 4,
  "vscode": {
   "interpreter": {
    "hash": "e7370f93d1d0cde622a1f8e1c04877d8463912d04d973331ad4851f04de6915a"
   }
  }
 },
 "nbformat": 4,
 "nbformat_minor": 2
}
